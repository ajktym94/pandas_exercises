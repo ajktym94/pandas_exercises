{
 "cells": [
  {
   "cell_type": "markdown",
   "metadata": {},
   "source": [
    "# MPG Cars"
   ]
  },
  {
   "cell_type": "markdown",
   "metadata": {},
   "source": [
    "### Introduction:\n",
    "\n",
    "The following exercise utilizes data from [UC Irvine Machine Learning Repository](https://archive.ics.uci.edu/ml/datasets/Auto+MPG)\n",
    "\n",
    "### Step 1. Import the necessary libraries"
   ]
  },
  {
   "cell_type": "code",
   "execution_count": 1,
   "metadata": {
    "collapsed": false
   },
   "outputs": [],
   "source": [
    "import pandas as pd"
   ]
  },
  {
   "cell_type": "markdown",
   "metadata": {},
   "source": [
    "### Step 2. Import the first dataset [cars1](https://raw.githubusercontent.com/guipsamora/pandas_exercises/master/05_Merge/Auto_MPG/cars1.csv) and [cars2](https://raw.githubusercontent.com/guipsamora/pandas_exercises/master/05_Merge/Auto_MPG/cars2.csv).  "
   ]
  },
  {
   "cell_type": "markdown",
   "metadata": {},
   "source": [
    "   ### Step 3. Assign each to a variable called cars1 and cars2"
   ]
  },
  {
   "cell_type": "code",
   "execution_count": 2,
   "metadata": {
    "collapsed": false
   },
   "outputs": [],
   "source": [
    "cars1 = pd.read_csv('cars1.csv')\n",
    "cars2 = pd.read_csv('cars2.csv')\n"
   ]
  },
  {
   "cell_type": "code",
   "execution_count": 6,
   "metadata": {},
   "outputs": [
    {
     "output_type": "execute_result",
     "data": {
      "text/plain": [
       "    mpg  cylinders  displacement horsepower  weight  acceleration  model  \\\n",
       "0  18.0          8           307        130    3504          12.0     70   \n",
       "1  15.0          8           350        165    3693          11.5     70   \n",
       "2  18.0          8           318        150    3436          11.0     70   \n",
       "3  16.0          8           304        150    3433          12.0     70   \n",
       "4  17.0          8           302        140    3449          10.5     70   \n",
       "\n",
       "   origin                        car  Unnamed: 9  Unnamed: 10  Unnamed: 11  \\\n",
       "0       1  chevrolet chevelle malibu         NaN          NaN          NaN   \n",
       "1       1          buick skylark 320         NaN          NaN          NaN   \n",
       "2       1         plymouth satellite         NaN          NaN          NaN   \n",
       "3       1              amc rebel sst         NaN          NaN          NaN   \n",
       "4       1                ford torino         NaN          NaN          NaN   \n",
       "\n",
       "   Unnamed: 12  Unnamed: 13  \n",
       "0          NaN          NaN  \n",
       "1          NaN          NaN  \n",
       "2          NaN          NaN  \n",
       "3          NaN          NaN  \n",
       "4          NaN          NaN  "
      ],
      "text/html": "<div>\n<style scoped>\n    .dataframe tbody tr th:only-of-type {\n        vertical-align: middle;\n    }\n\n    .dataframe tbody tr th {\n        vertical-align: top;\n    }\n\n    .dataframe thead th {\n        text-align: right;\n    }\n</style>\n<table border=\"1\" class=\"dataframe\">\n  <thead>\n    <tr style=\"text-align: right;\">\n      <th></th>\n      <th>mpg</th>\n      <th>cylinders</th>\n      <th>displacement</th>\n      <th>horsepower</th>\n      <th>weight</th>\n      <th>acceleration</th>\n      <th>model</th>\n      <th>origin</th>\n      <th>car</th>\n      <th>Unnamed: 9</th>\n      <th>Unnamed: 10</th>\n      <th>Unnamed: 11</th>\n      <th>Unnamed: 12</th>\n      <th>Unnamed: 13</th>\n    </tr>\n  </thead>\n  <tbody>\n    <tr>\n      <th>0</th>\n      <td>18.0</td>\n      <td>8</td>\n      <td>307</td>\n      <td>130</td>\n      <td>3504</td>\n      <td>12.0</td>\n      <td>70</td>\n      <td>1</td>\n      <td>chevrolet chevelle malibu</td>\n      <td>NaN</td>\n      <td>NaN</td>\n      <td>NaN</td>\n      <td>NaN</td>\n      <td>NaN</td>\n    </tr>\n    <tr>\n      <th>1</th>\n      <td>15.0</td>\n      <td>8</td>\n      <td>350</td>\n      <td>165</td>\n      <td>3693</td>\n      <td>11.5</td>\n      <td>70</td>\n      <td>1</td>\n      <td>buick skylark 320</td>\n      <td>NaN</td>\n      <td>NaN</td>\n      <td>NaN</td>\n      <td>NaN</td>\n      <td>NaN</td>\n    </tr>\n    <tr>\n      <th>2</th>\n      <td>18.0</td>\n      <td>8</td>\n      <td>318</td>\n      <td>150</td>\n      <td>3436</td>\n      <td>11.0</td>\n      <td>70</td>\n      <td>1</td>\n      <td>plymouth satellite</td>\n      <td>NaN</td>\n      <td>NaN</td>\n      <td>NaN</td>\n      <td>NaN</td>\n      <td>NaN</td>\n    </tr>\n    <tr>\n      <th>3</th>\n      <td>16.0</td>\n      <td>8</td>\n      <td>304</td>\n      <td>150</td>\n      <td>3433</td>\n      <td>12.0</td>\n      <td>70</td>\n      <td>1</td>\n      <td>amc rebel sst</td>\n      <td>NaN</td>\n      <td>NaN</td>\n      <td>NaN</td>\n      <td>NaN</td>\n      <td>NaN</td>\n    </tr>\n    <tr>\n      <th>4</th>\n      <td>17.0</td>\n      <td>8</td>\n      <td>302</td>\n      <td>140</td>\n      <td>3449</td>\n      <td>10.5</td>\n      <td>70</td>\n      <td>1</td>\n      <td>ford torino</td>\n      <td>NaN</td>\n      <td>NaN</td>\n      <td>NaN</td>\n      <td>NaN</td>\n      <td>NaN</td>\n    </tr>\n  </tbody>\n</table>\n</div>"
     },
     "metadata": {},
     "execution_count": 6
    }
   ],
   "source": [
    "cars1.head()\n",
    "# cars2.head()"
   ]
  },
  {
   "cell_type": "markdown",
   "metadata": {},
   "source": [
    "### Step 4. Oops, it seems our first dataset has some unnamed blank columns, fix cars1"
   ]
  },
  {
   "cell_type": "code",
   "execution_count": 8,
   "metadata": {
    "collapsed": false
   },
   "outputs": [],
   "source": [
    "cars1 = cars1.loc[:, 'mpg':'car']"
   ]
  },
  {
   "cell_type": "markdown",
   "metadata": {},
   "source": [
    "### Step 5. What is the number of observations in each dataset?"
   ]
  },
  {
   "cell_type": "code",
   "execution_count": 11,
   "metadata": {
    "collapsed": false
   },
   "outputs": [
    {
     "output_type": "execute_result",
     "data": {
      "text/plain": [
       "(200, 9)"
      ]
     },
     "metadata": {},
     "execution_count": 11
    }
   ],
   "source": [
    "cars1.shape\n",
    "cars2.shape"
   ]
  },
  {
   "cell_type": "markdown",
   "metadata": {},
   "source": [
    "### Step 6. Join cars1 and cars2 into a single DataFrame called cars"
   ]
  },
  {
   "cell_type": "code",
   "execution_count": 12,
   "metadata": {
    "collapsed": false
   },
   "outputs": [],
   "source": [
    "cars = cars1.append(cars2)"
   ]
  },
  {
   "cell_type": "code",
   "execution_count": 15,
   "metadata": {},
   "outputs": [
    {
     "output_type": "execute_result",
     "data": {
      "text/plain": [
       "    mpg  cylinders  displacement horsepower  weight  acceleration  model  \\\n",
       "0  18.0          8           307        130    3504          12.0     70   \n",
       "1  15.0          8           350        165    3693          11.5     70   \n",
       "2  18.0          8           318        150    3436          11.0     70   \n",
       "3  16.0          8           304        150    3433          12.0     70   \n",
       "4  17.0          8           302        140    3449          10.5     70   \n",
       "\n",
       "   origin                        car  \n",
       "0       1  chevrolet chevelle malibu  \n",
       "1       1          buick skylark 320  \n",
       "2       1         plymouth satellite  \n",
       "3       1              amc rebel sst  \n",
       "4       1                ford torino  "
      ],
      "text/html": "<div>\n<style scoped>\n    .dataframe tbody tr th:only-of-type {\n        vertical-align: middle;\n    }\n\n    .dataframe tbody tr th {\n        vertical-align: top;\n    }\n\n    .dataframe thead th {\n        text-align: right;\n    }\n</style>\n<table border=\"1\" class=\"dataframe\">\n  <thead>\n    <tr style=\"text-align: right;\">\n      <th></th>\n      <th>mpg</th>\n      <th>cylinders</th>\n      <th>displacement</th>\n      <th>horsepower</th>\n      <th>weight</th>\n      <th>acceleration</th>\n      <th>model</th>\n      <th>origin</th>\n      <th>car</th>\n    </tr>\n  </thead>\n  <tbody>\n    <tr>\n      <th>0</th>\n      <td>18.0</td>\n      <td>8</td>\n      <td>307</td>\n      <td>130</td>\n      <td>3504</td>\n      <td>12.0</td>\n      <td>70</td>\n      <td>1</td>\n      <td>chevrolet chevelle malibu</td>\n    </tr>\n    <tr>\n      <th>1</th>\n      <td>15.0</td>\n      <td>8</td>\n      <td>350</td>\n      <td>165</td>\n      <td>3693</td>\n      <td>11.5</td>\n      <td>70</td>\n      <td>1</td>\n      <td>buick skylark 320</td>\n    </tr>\n    <tr>\n      <th>2</th>\n      <td>18.0</td>\n      <td>8</td>\n      <td>318</td>\n      <td>150</td>\n      <td>3436</td>\n      <td>11.0</td>\n      <td>70</td>\n      <td>1</td>\n      <td>plymouth satellite</td>\n    </tr>\n    <tr>\n      <th>3</th>\n      <td>16.0</td>\n      <td>8</td>\n      <td>304</td>\n      <td>150</td>\n      <td>3433</td>\n      <td>12.0</td>\n      <td>70</td>\n      <td>1</td>\n      <td>amc rebel sst</td>\n    </tr>\n    <tr>\n      <th>4</th>\n      <td>17.0</td>\n      <td>8</td>\n      <td>302</td>\n      <td>140</td>\n      <td>3449</td>\n      <td>10.5</td>\n      <td>70</td>\n      <td>1</td>\n      <td>ford torino</td>\n    </tr>\n  </tbody>\n</table>\n</div>"
     },
     "metadata": {},
     "execution_count": 15
    }
   ],
   "source": [
    "cars.head()"
   ]
  },
  {
   "cell_type": "markdown",
   "metadata": {},
   "source": [
    "### Step 7. Oops, there is a column missing, called owners. Create a random number Series from 15,000 to 73,000."
   ]
  },
  {
   "cell_type": "code",
   "execution_count": 23,
   "metadata": {
    "collapsed": false
   },
   "outputs": [
    {
     "output_type": "execute_result",
     "data": {
      "text/plain": [
       "array([30364, 65344, 66858, 35511, 62011, 67257, 68575, 45046, 36015,\n",
       "       27752, 27010, 70782, 39408, 18091, 37869, 65325, 42338, 19935,\n",
       "       30535, 59955, 40886, 55602, 40973, 59623, 56446, 53968, 22162,\n",
       "       24674, 31235, 51825, 34780, 29613, 67707, 61442, 47171, 45310,\n",
       "       24027, 44317, 28140, 63032, 48632, 34896, 56461, 33810, 29865,\n",
       "       66087, 36082, 30152, 25053, 72473, 59804, 43540, 38253, 61431,\n",
       "       23934, 25149, 65344, 22035, 67962, 50914, 66540, 31417, 51191,\n",
       "       70950, 24601, 40367, 35893, 26206, 20176, 44692, 70416, 71196,\n",
       "       37546, 34048, 55497, 26604, 32807, 42060, 43880, 68441, 35728,\n",
       "       51081, 20197, 62419, 70047, 65819, 25528, 33840, 47894, 48380,\n",
       "       38947, 57041, 58979, 47038, 71146, 40718, 56337, 15532, 24225,\n",
       "       40270, 62818, 53534, 23834, 55544, 57658, 24955, 60422, 72066,\n",
       "       69994, 55202, 50661, 22906, 58900, 37940, 55211, 60916, 54359,\n",
       "       46819, 40456, 45573, 15752, 57965, 63760, 59979, 45589, 21305,\n",
       "       38317, 32488, 31970, 69005, 38206, 36111, 63065, 37409, 19457,\n",
       "       46055, 19881, 40528, 58154, 53580, 67041, 29398, 69399, 51361,\n",
       "       49060, 60773, 33213, 59991, 41357, 60333, 44454, 64792, 33869,\n",
       "       20116, 53951, 45505, 64610, 68464, 38013, 47219, 38702, 31423,\n",
       "       15277, 44635, 19074, 26210, 70735, 24965, 29602, 25514, 55581,\n",
       "       42454, 52455, 50493, 59101, 36520, 26787, 65155, 16220, 17878,\n",
       "       51445, 16425, 20490, 34170, 71869, 60482, 35694, 66734, 34434,\n",
       "       33699, 61253, 56670, 28233, 69067, 29647, 69267, 64039, 28673,\n",
       "       72330, 17471, 70397, 40167, 50177, 45186, 40227, 58186, 53368,\n",
       "       32390, 17191, 21762, 60436, 19527, 59920, 22431, 63237, 51067,\n",
       "       39785, 45969, 66593, 28706, 71639, 70032, 20286, 38053, 30541,\n",
       "       25807, 19338, 50195, 26040, 64846, 35344, 45386, 55895, 70028,\n",
       "       61881, 30471, 61799, 59958, 21045, 64199, 27540, 36308, 45032,\n",
       "       67557, 45007, 56899, 55520, 62019, 53313, 45786, 47069, 72748,\n",
       "       50062, 24017, 63966, 62482, 61364, 45260, 22291, 66256, 42048,\n",
       "       21275, 55604, 26763, 55831, 26663, 26730, 29682, 64652, 57704,\n",
       "       64235, 18054, 68088, 15900, 42908, 59177, 19129, 71283, 41152,\n",
       "       42396, 46020, 42418, 32591, 50100, 45594, 17769, 71713, 30135,\n",
       "       16047, 54640, 50753, 51726, 67741, 67532, 30021, 55385, 27586,\n",
       "       58129, 18382, 53929, 38811, 33284, 38478, 43172, 51700, 55398,\n",
       "       22302, 35511, 68821, 67698, 37354, 58119, 33923, 30729, 20577,\n",
       "       27991, 23237, 31996, 22719, 60228, 63166, 15901, 28604, 19367,\n",
       "       51642, 20626, 72381, 41426, 48693, 49347, 18868, 66743, 16026,\n",
       "       72716, 58835, 51288, 31118, 64238, 36487, 52837, 24959, 21075,\n",
       "       32599, 60550, 38903, 18991, 43301, 69263, 64344, 62502, 70062,\n",
       "       38253, 20981, 64980, 39607, 36423, 72945, 66801, 44900, 21672,\n",
       "       24158, 60522, 66029, 20765, 25540, 62476, 59797, 29814, 47256,\n",
       "       29685, 22298, 24399, 67019, 47684, 41635, 15664, 61605, 60888,\n",
       "       35200, 17211, 63379, 51494, 37582, 65047, 68086, 53071, 70077,\n",
       "       22072, 29124, 68054, 20837, 45977, 17573, 61710, 28586, 52483,\n",
       "       31320, 61626])"
      ]
     },
     "metadata": {},
     "execution_count": 23
    }
   ],
   "source": [
    "import numpy as np\n",
    "ser = np.random.randint(15000, 73000, 398)\n",
    "ser"
   ]
  },
  {
   "cell_type": "markdown",
   "metadata": {},
   "source": [
    "### Step 8. Add the column owners to cars"
   ]
  },
  {
   "cell_type": "code",
   "execution_count": 25,
   "metadata": {
    "collapsed": false
   },
   "outputs": [
    {
     "output_type": "execute_result",
     "data": {
      "text/plain": [
       "      mpg  cylinders  displacement horsepower  weight  acceleration  model  \\\n",
       "0    18.0          8           307        130    3504          12.0     70   \n",
       "1    15.0          8           350        165    3693          11.5     70   \n",
       "2    18.0          8           318        150    3436          11.0     70   \n",
       "3    16.0          8           304        150    3433          12.0     70   \n",
       "4    17.0          8           302        140    3449          10.5     70   \n",
       "5    15.0          8           429        198    4341          10.0     70   \n",
       "6    14.0          8           454        220    4354           9.0     70   \n",
       "7    14.0          8           440        215    4312           8.5     70   \n",
       "8    14.0          8           455        225    4425          10.0     70   \n",
       "9    15.0          8           390        190    3850           8.5     70   \n",
       "10   15.0          8           383        170    3563          10.0     70   \n",
       "11   14.0          8           340        160    3609           8.0     70   \n",
       "12   15.0          8           400        150    3761           9.5     70   \n",
       "13   14.0          8           455        225    3086          10.0     70   \n",
       "14   24.0          4           113         95    2372          15.0     70   \n",
       "15   22.0          6           198         95    2833          15.5     70   \n",
       "16   18.0          6           199         97    2774          15.5     70   \n",
       "17   21.0          6           200         85    2587          16.0     70   \n",
       "18   27.0          4            97         88    2130          14.5     70   \n",
       "19   26.0          4            97         46    1835          20.5     70   \n",
       "20   25.0          4           110         87    2672          17.5     70   \n",
       "21   24.0          4           107         90    2430          14.5     70   \n",
       "22   25.0          4           104         95    2375          17.5     70   \n",
       "23   26.0          4           121        113    2234          12.5     70   \n",
       "24   21.0          6           199         90    2648          15.0     70   \n",
       "25   10.0          8           360        215    4615          14.0     70   \n",
       "26   10.0          8           307        200    4376          15.0     70   \n",
       "27   11.0          8           318        210    4382          13.5     70   \n",
       "28    9.0          8           304        193    4732          18.5     70   \n",
       "29   27.0          4            97         88    2130          14.5     71   \n",
       "..    ...        ...           ...        ...     ...           ...    ...   \n",
       "170  27.0          4           112         88    2640          18.6     82   \n",
       "171  34.0          4           112         88    2395          18.0     82   \n",
       "172  31.0          4           112         85    2575          16.2     82   \n",
       "173  29.0          4           135         84    2525          16.0     82   \n",
       "174  27.0          4           151         90    2735          18.0     82   \n",
       "175  24.0          4           140         92    2865          16.4     82   \n",
       "176  23.0          4           151          ?    3035          20.5     82   \n",
       "177  36.0          4           105         74    1980          15.3     82   \n",
       "178  37.0          4            91         68    2025          18.2     82   \n",
       "179  31.0          4            91         68    1970          17.6     82   \n",
       "180  38.0          4           105         63    2125          14.7     82   \n",
       "181  36.0          4            98         70    2125          17.3     82   \n",
       "182  36.0          4           120         88    2160          14.5     82   \n",
       "183  36.0          4           107         75    2205          14.5     82   \n",
       "184  34.0          4           108         70    2245          16.9     82   \n",
       "185  38.0          4            91         67    1965          15.0     82   \n",
       "186  32.0          4            91         67    1965          15.7     82   \n",
       "187  38.0          4            91         67    1995          16.2     82   \n",
       "188  25.0          6           181        110    2945          16.4     82   \n",
       "189  38.0          6           262         85    3015          17.0     82   \n",
       "190  26.0          4           156         92    2585          14.5     82   \n",
       "191  22.0          6           232        112    2835          14.7     82   \n",
       "192  32.0          4           144         96    2665          13.9     82   \n",
       "193  36.0          4           135         84    2370          13.0     82   \n",
       "194  27.0          4           151         90    2950          17.3     82   \n",
       "195  27.0          4           140         86    2790          15.6     82   \n",
       "196  44.0          4            97         52    2130          24.6     82   \n",
       "197  32.0          4           135         84    2295          11.6     82   \n",
       "198  28.0          4           120         79    2625          18.6     82   \n",
       "199  31.0          4           119         82    2720          19.4     82   \n",
       "\n",
       "     origin                                car  owners  \n",
       "0         1          chevrolet chevelle malibu   30364  \n",
       "1         1                  buick skylark 320   65344  \n",
       "2         1                 plymouth satellite   66858  \n",
       "3         1                      amc rebel sst   35511  \n",
       "4         1                        ford torino   62011  \n",
       "5         1                   ford galaxie 500   67257  \n",
       "6         1                   chevrolet impala   68575  \n",
       "7         1                  plymouth fury iii   45046  \n",
       "8         1                   pontiac catalina   36015  \n",
       "9         1                 amc ambassador dpl   27752  \n",
       "10        1                dodge challenger se   27010  \n",
       "11        1                 plymouth 'cuda 340   70782  \n",
       "12        1              chevrolet monte carlo   39408  \n",
       "13        1            buick estate wagon (sw)   18091  \n",
       "14        3              toyota corona mark ii   37869  \n",
       "15        1                    plymouth duster   65325  \n",
       "16        1                         amc hornet   42338  \n",
       "17        1                      ford maverick   19935  \n",
       "18        3                       datsun pl510   30535  \n",
       "19        2       volkswagen 1131 deluxe sedan   59955  \n",
       "20        2                        peugeot 504   40886  \n",
       "21        2                        audi 100 ls   55602  \n",
       "22        2                           saab 99e   40973  \n",
       "23        2                           bmw 2002   59623  \n",
       "24        1                        amc gremlin   56446  \n",
       "25        1                          ford f250   53968  \n",
       "26        1                          chevy c20   22162  \n",
       "27        1                         dodge d200   24674  \n",
       "28        1                           hi 1200d   31235  \n",
       "29        3                       datsun pl510   51825  \n",
       "..      ...                                ...     ...  \n",
       "170       1           chevrolet cavalier wagon   47256  \n",
       "171       1          chevrolet cavalier 2-door   29685  \n",
       "172       1         pontiac j2000 se hatchback   22298  \n",
       "173       1                     dodge aries se   24399  \n",
       "174       1                    pontiac phoenix   67019  \n",
       "175       1               ford fairmont futura   47684  \n",
       "176       1                     amc concord dl   41635  \n",
       "177       2                volkswagen rabbit l   15664  \n",
       "178       3                 mazda glc custom l   61605  \n",
       "179       3                   mazda glc custom   60888  \n",
       "180       1             plymouth horizon miser   35200  \n",
       "181       1                     mercury lynx l   17211  \n",
       "182       3                   nissan stanza xe   63379  \n",
       "183       3                       honda accord   51494  \n",
       "184       3                     toyota corolla   37582  \n",
       "185       3                        honda civic   65047  \n",
       "186       3                 honda civic (auto)   68086  \n",
       "187       3                      datsun 310 gx   53071  \n",
       "188       1              buick century limited   70077  \n",
       "189       1  oldsmobile cutlass ciera (diesel)   22072  \n",
       "190       1         chrysler lebaron medallion   29124  \n",
       "191       1                     ford granada l   68054  \n",
       "192       3                   toyota celica gt   20837  \n",
       "193       1                  dodge charger 2.2   45977  \n",
       "194       1                   chevrolet camaro   17573  \n",
       "195       1                    ford mustang gl   61710  \n",
       "196       2                          vw pickup   28586  \n",
       "197       1                      dodge rampage   52483  \n",
       "198       1                        ford ranger   31320  \n",
       "199       1                         chevy s-10   61626  \n",
       "\n",
       "[398 rows x 10 columns]"
      ],
      "text/html": "<div>\n<style scoped>\n    .dataframe tbody tr th:only-of-type {\n        vertical-align: middle;\n    }\n\n    .dataframe tbody tr th {\n        vertical-align: top;\n    }\n\n    .dataframe thead th {\n        text-align: right;\n    }\n</style>\n<table border=\"1\" class=\"dataframe\">\n  <thead>\n    <tr style=\"text-align: right;\">\n      <th></th>\n      <th>mpg</th>\n      <th>cylinders</th>\n      <th>displacement</th>\n      <th>horsepower</th>\n      <th>weight</th>\n      <th>acceleration</th>\n      <th>model</th>\n      <th>origin</th>\n      <th>car</th>\n      <th>owners</th>\n    </tr>\n  </thead>\n  <tbody>\n    <tr>\n      <th>0</th>\n      <td>18.0</td>\n      <td>8</td>\n      <td>307</td>\n      <td>130</td>\n      <td>3504</td>\n      <td>12.0</td>\n      <td>70</td>\n      <td>1</td>\n      <td>chevrolet chevelle malibu</td>\n      <td>30364</td>\n    </tr>\n    <tr>\n      <th>1</th>\n      <td>15.0</td>\n      <td>8</td>\n      <td>350</td>\n      <td>165</td>\n      <td>3693</td>\n      <td>11.5</td>\n      <td>70</td>\n      <td>1</td>\n      <td>buick skylark 320</td>\n      <td>65344</td>\n    </tr>\n    <tr>\n      <th>2</th>\n      <td>18.0</td>\n      <td>8</td>\n      <td>318</td>\n      <td>150</td>\n      <td>3436</td>\n      <td>11.0</td>\n      <td>70</td>\n      <td>1</td>\n      <td>plymouth satellite</td>\n      <td>66858</td>\n    </tr>\n    <tr>\n      <th>3</th>\n      <td>16.0</td>\n      <td>8</td>\n      <td>304</td>\n      <td>150</td>\n      <td>3433</td>\n      <td>12.0</td>\n      <td>70</td>\n      <td>1</td>\n      <td>amc rebel sst</td>\n      <td>35511</td>\n    </tr>\n    <tr>\n      <th>4</th>\n      <td>17.0</td>\n      <td>8</td>\n      <td>302</td>\n      <td>140</td>\n      <td>3449</td>\n      <td>10.5</td>\n      <td>70</td>\n      <td>1</td>\n      <td>ford torino</td>\n      <td>62011</td>\n    </tr>\n    <tr>\n      <th>5</th>\n      <td>15.0</td>\n      <td>8</td>\n      <td>429</td>\n      <td>198</td>\n      <td>4341</td>\n      <td>10.0</td>\n      <td>70</td>\n      <td>1</td>\n      <td>ford galaxie 500</td>\n      <td>67257</td>\n    </tr>\n    <tr>\n      <th>6</th>\n      <td>14.0</td>\n      <td>8</td>\n      <td>454</td>\n      <td>220</td>\n      <td>4354</td>\n      <td>9.0</td>\n      <td>70</td>\n      <td>1</td>\n      <td>chevrolet impala</td>\n      <td>68575</td>\n    </tr>\n    <tr>\n      <th>7</th>\n      <td>14.0</td>\n      <td>8</td>\n      <td>440</td>\n      <td>215</td>\n      <td>4312</td>\n      <td>8.5</td>\n      <td>70</td>\n      <td>1</td>\n      <td>plymouth fury iii</td>\n      <td>45046</td>\n    </tr>\n    <tr>\n      <th>8</th>\n      <td>14.0</td>\n      <td>8</td>\n      <td>455</td>\n      <td>225</td>\n      <td>4425</td>\n      <td>10.0</td>\n      <td>70</td>\n      <td>1</td>\n      <td>pontiac catalina</td>\n      <td>36015</td>\n    </tr>\n    <tr>\n      <th>9</th>\n      <td>15.0</td>\n      <td>8</td>\n      <td>390</td>\n      <td>190</td>\n      <td>3850</td>\n      <td>8.5</td>\n      <td>70</td>\n      <td>1</td>\n      <td>amc ambassador dpl</td>\n      <td>27752</td>\n    </tr>\n    <tr>\n      <th>10</th>\n      <td>15.0</td>\n      <td>8</td>\n      <td>383</td>\n      <td>170</td>\n      <td>3563</td>\n      <td>10.0</td>\n      <td>70</td>\n      <td>1</td>\n      <td>dodge challenger se</td>\n      <td>27010</td>\n    </tr>\n    <tr>\n      <th>11</th>\n      <td>14.0</td>\n      <td>8</td>\n      <td>340</td>\n      <td>160</td>\n      <td>3609</td>\n      <td>8.0</td>\n      <td>70</td>\n      <td>1</td>\n      <td>plymouth 'cuda 340</td>\n      <td>70782</td>\n    </tr>\n    <tr>\n      <th>12</th>\n      <td>15.0</td>\n      <td>8</td>\n      <td>400</td>\n      <td>150</td>\n      <td>3761</td>\n      <td>9.5</td>\n      <td>70</td>\n      <td>1</td>\n      <td>chevrolet monte carlo</td>\n      <td>39408</td>\n    </tr>\n    <tr>\n      <th>13</th>\n      <td>14.0</td>\n      <td>8</td>\n      <td>455</td>\n      <td>225</td>\n      <td>3086</td>\n      <td>10.0</td>\n      <td>70</td>\n      <td>1</td>\n      <td>buick estate wagon (sw)</td>\n      <td>18091</td>\n    </tr>\n    <tr>\n      <th>14</th>\n      <td>24.0</td>\n      <td>4</td>\n      <td>113</td>\n      <td>95</td>\n      <td>2372</td>\n      <td>15.0</td>\n      <td>70</td>\n      <td>3</td>\n      <td>toyota corona mark ii</td>\n      <td>37869</td>\n    </tr>\n    <tr>\n      <th>15</th>\n      <td>22.0</td>\n      <td>6</td>\n      <td>198</td>\n      <td>95</td>\n      <td>2833</td>\n      <td>15.5</td>\n      <td>70</td>\n      <td>1</td>\n      <td>plymouth duster</td>\n      <td>65325</td>\n    </tr>\n    <tr>\n      <th>16</th>\n      <td>18.0</td>\n      <td>6</td>\n      <td>199</td>\n      <td>97</td>\n      <td>2774</td>\n      <td>15.5</td>\n      <td>70</td>\n      <td>1</td>\n      <td>amc hornet</td>\n      <td>42338</td>\n    </tr>\n    <tr>\n      <th>17</th>\n      <td>21.0</td>\n      <td>6</td>\n      <td>200</td>\n      <td>85</td>\n      <td>2587</td>\n      <td>16.0</td>\n      <td>70</td>\n      <td>1</td>\n      <td>ford maverick</td>\n      <td>19935</td>\n    </tr>\n    <tr>\n      <th>18</th>\n      <td>27.0</td>\n      <td>4</td>\n      <td>97</td>\n      <td>88</td>\n      <td>2130</td>\n      <td>14.5</td>\n      <td>70</td>\n      <td>3</td>\n      <td>datsun pl510</td>\n      <td>30535</td>\n    </tr>\n    <tr>\n      <th>19</th>\n      <td>26.0</td>\n      <td>4</td>\n      <td>97</td>\n      <td>46</td>\n      <td>1835</td>\n      <td>20.5</td>\n      <td>70</td>\n      <td>2</td>\n      <td>volkswagen 1131 deluxe sedan</td>\n      <td>59955</td>\n    </tr>\n    <tr>\n      <th>20</th>\n      <td>25.0</td>\n      <td>4</td>\n      <td>110</td>\n      <td>87</td>\n      <td>2672</td>\n      <td>17.5</td>\n      <td>70</td>\n      <td>2</td>\n      <td>peugeot 504</td>\n      <td>40886</td>\n    </tr>\n    <tr>\n      <th>21</th>\n      <td>24.0</td>\n      <td>4</td>\n      <td>107</td>\n      <td>90</td>\n      <td>2430</td>\n      <td>14.5</td>\n      <td>70</td>\n      <td>2</td>\n      <td>audi 100 ls</td>\n      <td>55602</td>\n    </tr>\n    <tr>\n      <th>22</th>\n      <td>25.0</td>\n      <td>4</td>\n      <td>104</td>\n      <td>95</td>\n      <td>2375</td>\n      <td>17.5</td>\n      <td>70</td>\n      <td>2</td>\n      <td>saab 99e</td>\n      <td>40973</td>\n    </tr>\n    <tr>\n      <th>23</th>\n      <td>26.0</td>\n      <td>4</td>\n      <td>121</td>\n      <td>113</td>\n      <td>2234</td>\n      <td>12.5</td>\n      <td>70</td>\n      <td>2</td>\n      <td>bmw 2002</td>\n      <td>59623</td>\n    </tr>\n    <tr>\n      <th>24</th>\n      <td>21.0</td>\n      <td>6</td>\n      <td>199</td>\n      <td>90</td>\n      <td>2648</td>\n      <td>15.0</td>\n      <td>70</td>\n      <td>1</td>\n      <td>amc gremlin</td>\n      <td>56446</td>\n    </tr>\n    <tr>\n      <th>25</th>\n      <td>10.0</td>\n      <td>8</td>\n      <td>360</td>\n      <td>215</td>\n      <td>4615</td>\n      <td>14.0</td>\n      <td>70</td>\n      <td>1</td>\n      <td>ford f250</td>\n      <td>53968</td>\n    </tr>\n    <tr>\n      <th>26</th>\n      <td>10.0</td>\n      <td>8</td>\n      <td>307</td>\n      <td>200</td>\n      <td>4376</td>\n      <td>15.0</td>\n      <td>70</td>\n      <td>1</td>\n      <td>chevy c20</td>\n      <td>22162</td>\n    </tr>\n    <tr>\n      <th>27</th>\n      <td>11.0</td>\n      <td>8</td>\n      <td>318</td>\n      <td>210</td>\n      <td>4382</td>\n      <td>13.5</td>\n      <td>70</td>\n      <td>1</td>\n      <td>dodge d200</td>\n      <td>24674</td>\n    </tr>\n    <tr>\n      <th>28</th>\n      <td>9.0</td>\n      <td>8</td>\n      <td>304</td>\n      <td>193</td>\n      <td>4732</td>\n      <td>18.5</td>\n      <td>70</td>\n      <td>1</td>\n      <td>hi 1200d</td>\n      <td>31235</td>\n    </tr>\n    <tr>\n      <th>29</th>\n      <td>27.0</td>\n      <td>4</td>\n      <td>97</td>\n      <td>88</td>\n      <td>2130</td>\n      <td>14.5</td>\n      <td>71</td>\n      <td>3</td>\n      <td>datsun pl510</td>\n      <td>51825</td>\n    </tr>\n    <tr>\n      <th>...</th>\n      <td>...</td>\n      <td>...</td>\n      <td>...</td>\n      <td>...</td>\n      <td>...</td>\n      <td>...</td>\n      <td>...</td>\n      <td>...</td>\n      <td>...</td>\n      <td>...</td>\n    </tr>\n    <tr>\n      <th>170</th>\n      <td>27.0</td>\n      <td>4</td>\n      <td>112</td>\n      <td>88</td>\n      <td>2640</td>\n      <td>18.6</td>\n      <td>82</td>\n      <td>1</td>\n      <td>chevrolet cavalier wagon</td>\n      <td>47256</td>\n    </tr>\n    <tr>\n      <th>171</th>\n      <td>34.0</td>\n      <td>4</td>\n      <td>112</td>\n      <td>88</td>\n      <td>2395</td>\n      <td>18.0</td>\n      <td>82</td>\n      <td>1</td>\n      <td>chevrolet cavalier 2-door</td>\n      <td>29685</td>\n    </tr>\n    <tr>\n      <th>172</th>\n      <td>31.0</td>\n      <td>4</td>\n      <td>112</td>\n      <td>85</td>\n      <td>2575</td>\n      <td>16.2</td>\n      <td>82</td>\n      <td>1</td>\n      <td>pontiac j2000 se hatchback</td>\n      <td>22298</td>\n    </tr>\n    <tr>\n      <th>173</th>\n      <td>29.0</td>\n      <td>4</td>\n      <td>135</td>\n      <td>84</td>\n      <td>2525</td>\n      <td>16.0</td>\n      <td>82</td>\n      <td>1</td>\n      <td>dodge aries se</td>\n      <td>24399</td>\n    </tr>\n    <tr>\n      <th>174</th>\n      <td>27.0</td>\n      <td>4</td>\n      <td>151</td>\n      <td>90</td>\n      <td>2735</td>\n      <td>18.0</td>\n      <td>82</td>\n      <td>1</td>\n      <td>pontiac phoenix</td>\n      <td>67019</td>\n    </tr>\n    <tr>\n      <th>175</th>\n      <td>24.0</td>\n      <td>4</td>\n      <td>140</td>\n      <td>92</td>\n      <td>2865</td>\n      <td>16.4</td>\n      <td>82</td>\n      <td>1</td>\n      <td>ford fairmont futura</td>\n      <td>47684</td>\n    </tr>\n    <tr>\n      <th>176</th>\n      <td>23.0</td>\n      <td>4</td>\n      <td>151</td>\n      <td>?</td>\n      <td>3035</td>\n      <td>20.5</td>\n      <td>82</td>\n      <td>1</td>\n      <td>amc concord dl</td>\n      <td>41635</td>\n    </tr>\n    <tr>\n      <th>177</th>\n      <td>36.0</td>\n      <td>4</td>\n      <td>105</td>\n      <td>74</td>\n      <td>1980</td>\n      <td>15.3</td>\n      <td>82</td>\n      <td>2</td>\n      <td>volkswagen rabbit l</td>\n      <td>15664</td>\n    </tr>\n    <tr>\n      <th>178</th>\n      <td>37.0</td>\n      <td>4</td>\n      <td>91</td>\n      <td>68</td>\n      <td>2025</td>\n      <td>18.2</td>\n      <td>82</td>\n      <td>3</td>\n      <td>mazda glc custom l</td>\n      <td>61605</td>\n    </tr>\n    <tr>\n      <th>179</th>\n      <td>31.0</td>\n      <td>4</td>\n      <td>91</td>\n      <td>68</td>\n      <td>1970</td>\n      <td>17.6</td>\n      <td>82</td>\n      <td>3</td>\n      <td>mazda glc custom</td>\n      <td>60888</td>\n    </tr>\n    <tr>\n      <th>180</th>\n      <td>38.0</td>\n      <td>4</td>\n      <td>105</td>\n      <td>63</td>\n      <td>2125</td>\n      <td>14.7</td>\n      <td>82</td>\n      <td>1</td>\n      <td>plymouth horizon miser</td>\n      <td>35200</td>\n    </tr>\n    <tr>\n      <th>181</th>\n      <td>36.0</td>\n      <td>4</td>\n      <td>98</td>\n      <td>70</td>\n      <td>2125</td>\n      <td>17.3</td>\n      <td>82</td>\n      <td>1</td>\n      <td>mercury lynx l</td>\n      <td>17211</td>\n    </tr>\n    <tr>\n      <th>182</th>\n      <td>36.0</td>\n      <td>4</td>\n      <td>120</td>\n      <td>88</td>\n      <td>2160</td>\n      <td>14.5</td>\n      <td>82</td>\n      <td>3</td>\n      <td>nissan stanza xe</td>\n      <td>63379</td>\n    </tr>\n    <tr>\n      <th>183</th>\n      <td>36.0</td>\n      <td>4</td>\n      <td>107</td>\n      <td>75</td>\n      <td>2205</td>\n      <td>14.5</td>\n      <td>82</td>\n      <td>3</td>\n      <td>honda accord</td>\n      <td>51494</td>\n    </tr>\n    <tr>\n      <th>184</th>\n      <td>34.0</td>\n      <td>4</td>\n      <td>108</td>\n      <td>70</td>\n      <td>2245</td>\n      <td>16.9</td>\n      <td>82</td>\n      <td>3</td>\n      <td>toyota corolla</td>\n      <td>37582</td>\n    </tr>\n    <tr>\n      <th>185</th>\n      <td>38.0</td>\n      <td>4</td>\n      <td>91</td>\n      <td>67</td>\n      <td>1965</td>\n      <td>15.0</td>\n      <td>82</td>\n      <td>3</td>\n      <td>honda civic</td>\n      <td>65047</td>\n    </tr>\n    <tr>\n      <th>186</th>\n      <td>32.0</td>\n      <td>4</td>\n      <td>91</td>\n      <td>67</td>\n      <td>1965</td>\n      <td>15.7</td>\n      <td>82</td>\n      <td>3</td>\n      <td>honda civic (auto)</td>\n      <td>68086</td>\n    </tr>\n    <tr>\n      <th>187</th>\n      <td>38.0</td>\n      <td>4</td>\n      <td>91</td>\n      <td>67</td>\n      <td>1995</td>\n      <td>16.2</td>\n      <td>82</td>\n      <td>3</td>\n      <td>datsun 310 gx</td>\n      <td>53071</td>\n    </tr>\n    <tr>\n      <th>188</th>\n      <td>25.0</td>\n      <td>6</td>\n      <td>181</td>\n      <td>110</td>\n      <td>2945</td>\n      <td>16.4</td>\n      <td>82</td>\n      <td>1</td>\n      <td>buick century limited</td>\n      <td>70077</td>\n    </tr>\n    <tr>\n      <th>189</th>\n      <td>38.0</td>\n      <td>6</td>\n      <td>262</td>\n      <td>85</td>\n      <td>3015</td>\n      <td>17.0</td>\n      <td>82</td>\n      <td>1</td>\n      <td>oldsmobile cutlass ciera (diesel)</td>\n      <td>22072</td>\n    </tr>\n    <tr>\n      <th>190</th>\n      <td>26.0</td>\n      <td>4</td>\n      <td>156</td>\n      <td>92</td>\n      <td>2585</td>\n      <td>14.5</td>\n      <td>82</td>\n      <td>1</td>\n      <td>chrysler lebaron medallion</td>\n      <td>29124</td>\n    </tr>\n    <tr>\n      <th>191</th>\n      <td>22.0</td>\n      <td>6</td>\n      <td>232</td>\n      <td>112</td>\n      <td>2835</td>\n      <td>14.7</td>\n      <td>82</td>\n      <td>1</td>\n      <td>ford granada l</td>\n      <td>68054</td>\n    </tr>\n    <tr>\n      <th>192</th>\n      <td>32.0</td>\n      <td>4</td>\n      <td>144</td>\n      <td>96</td>\n      <td>2665</td>\n      <td>13.9</td>\n      <td>82</td>\n      <td>3</td>\n      <td>toyota celica gt</td>\n      <td>20837</td>\n    </tr>\n    <tr>\n      <th>193</th>\n      <td>36.0</td>\n      <td>4</td>\n      <td>135</td>\n      <td>84</td>\n      <td>2370</td>\n      <td>13.0</td>\n      <td>82</td>\n      <td>1</td>\n      <td>dodge charger 2.2</td>\n      <td>45977</td>\n    </tr>\n    <tr>\n      <th>194</th>\n      <td>27.0</td>\n      <td>4</td>\n      <td>151</td>\n      <td>90</td>\n      <td>2950</td>\n      <td>17.3</td>\n      <td>82</td>\n      <td>1</td>\n      <td>chevrolet camaro</td>\n      <td>17573</td>\n    </tr>\n    <tr>\n      <th>195</th>\n      <td>27.0</td>\n      <td>4</td>\n      <td>140</td>\n      <td>86</td>\n      <td>2790</td>\n      <td>15.6</td>\n      <td>82</td>\n      <td>1</td>\n      <td>ford mustang gl</td>\n      <td>61710</td>\n    </tr>\n    <tr>\n      <th>196</th>\n      <td>44.0</td>\n      <td>4</td>\n      <td>97</td>\n      <td>52</td>\n      <td>2130</td>\n      <td>24.6</td>\n      <td>82</td>\n      <td>2</td>\n      <td>vw pickup</td>\n      <td>28586</td>\n    </tr>\n    <tr>\n      <th>197</th>\n      <td>32.0</td>\n      <td>4</td>\n      <td>135</td>\n      <td>84</td>\n      <td>2295</td>\n      <td>11.6</td>\n      <td>82</td>\n      <td>1</td>\n      <td>dodge rampage</td>\n      <td>52483</td>\n    </tr>\n    <tr>\n      <th>198</th>\n      <td>28.0</td>\n      <td>4</td>\n      <td>120</td>\n      <td>79</td>\n      <td>2625</td>\n      <td>18.6</td>\n      <td>82</td>\n      <td>1</td>\n      <td>ford ranger</td>\n      <td>31320</td>\n    </tr>\n    <tr>\n      <th>199</th>\n      <td>31.0</td>\n      <td>4</td>\n      <td>119</td>\n      <td>82</td>\n      <td>2720</td>\n      <td>19.4</td>\n      <td>82</td>\n      <td>1</td>\n      <td>chevy s-10</td>\n      <td>61626</td>\n    </tr>\n  </tbody>\n</table>\n<p>398 rows × 10 columns</p>\n</div>"
     },
     "metadata": {},
     "execution_count": 25
    }
   ],
   "source": [
    "cars['owners'] = ser\n",
    "cars"
   ]
  }
 ],
 "metadata": {
  "anaconda-cloud": {},
  "kernelspec": {
   "name": "python3",
   "display_name": "Python 3.7.3 64-bit (conda)",
   "metadata": {
    "interpreter": {
     "hash": "9961ef555189fd8d9e9e164d9eaad54bf2a9bcc91ead018c187e74c2f3d9c76c"
    }
   }
  },
  "language_info": {
   "codemirror_mode": {
    "name": "ipython",
    "version": 2
   },
   "file_extension": ".py",
   "mimetype": "text/x-python",
   "name": "python",
   "nbconvert_exporter": "python",
   "pygments_lexer": "ipython2",
   "version": "3.7.3-final"
  }
 },
 "nbformat": 4,
 "nbformat_minor": 0
}